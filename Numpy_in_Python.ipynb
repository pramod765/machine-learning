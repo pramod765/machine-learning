{
  "nbformat": 4,
  "nbformat_minor": 0,
  "metadata": {
    "colab": {
      "name": "Numpy_in_Python.ipynb",
      "provenance": []
    },
    "kernelspec": {
      "name": "python3",
      "display_name": "Python 3"
    },
    "language_info": {
      "name": "python"
    }
  },
  "cells": [
    {
      "cell_type": "markdown",
      "metadata": {
        "id": "FbmYqkTQmsYB"
      },
      "source": [
        "Numpy is a built in module which stands for Numerical Python"
      ]
    },
    {
      "cell_type": "code",
      "metadata": {
        "id": "ZkAYWukigZOJ"
      },
      "source": [
        "import numpy as np #np is the alias name for numpy"
      ],
      "execution_count": 2,
      "outputs": []
    },
    {
      "cell_type": "code",
      "metadata": {
        "id": "bRBXG8aYm1-t"
      },
      "source": [
        "my_list=[12,13,14,15,16]"
      ],
      "execution_count": 3,
      "outputs": []
    },
    {
      "cell_type": "code",
      "metadata": {
        "colab": {
          "base_uri": "https://localhost:8080/"
        },
        "id": "iuA8pslbnkGa",
        "outputId": "a05cda35-f551-4844-89eb-d3d2a91cb46b"
      },
      "source": [
        "print(my_list)"
      ],
      "execution_count": 7,
      "outputs": [
        {
          "output_type": "stream",
          "name": "stdout",
          "text": [
            "[12, 13, 14, 15, 16]\n"
          ]
        }
      ]
    },
    {
      "cell_type": "code",
      "metadata": {
        "colab": {
          "base_uri": "https://localhost:8080/"
        },
        "id": "nVsk2xoOnI-z",
        "outputId": "c0fd08fa-4e89-4e1e-aba3-c38d354765a1"
      },
      "source": [
        "type(my_list)"
      ],
      "execution_count": 4,
      "outputs": [
        {
          "output_type": "execute_result",
          "data": {
            "text/plain": [
              "list"
            ]
          },
          "metadata": {},
          "execution_count": 4
        }
      ]
    },
    {
      "cell_type": "code",
      "metadata": {
        "id": "MGb_-LqJnPvR"
      },
      "source": [
        "#convert the list into array\n",
        "arr=np.array(my_list) #.array will convert the list into an array"
      ],
      "execution_count": 5,
      "outputs": []
    },
    {
      "cell_type": "code",
      "metadata": {
        "colab": {
          "base_uri": "https://localhost:8080/"
        },
        "id": "3vsn_sS3ngPi",
        "outputId": "737618e2-5381-4951-9c59-f03b4d587e4e"
      },
      "source": [
        "print(arr)"
      ],
      "execution_count": 6,
      "outputs": [
        {
          "output_type": "stream",
          "name": "stdout",
          "text": [
            "[12 13 14 15 16]\n"
          ]
        }
      ]
    },
    {
      "cell_type": "code",
      "metadata": {
        "colab": {
          "base_uri": "https://localhost:8080/"
        },
        "id": "FBpNZhSanhuf",
        "outputId": "69f7ba2a-a208-4232-f86a-3eba9e1d0eb7"
      },
      "source": [
        "type(arr) #n dimentional array, here n=1 so we have 1D Array"
      ],
      "execution_count": 9,
      "outputs": [
        {
          "output_type": "execute_result",
          "data": {
            "text/plain": [
              "numpy.ndarray"
            ]
          },
          "metadata": {},
          "execution_count": 9
        }
      ]
    },
    {
      "cell_type": "code",
      "metadata": {
        "id": "dASKhM4oonxv"
      },
      "source": [
        "new_list=['Ankesh','Pramod','Ravi','Tushar']"
      ],
      "execution_count": 10,
      "outputs": []
    },
    {
      "cell_type": "code",
      "metadata": {
        "colab": {
          "base_uri": "https://localhost:8080/"
        },
        "id": "P1UMosauo4RL",
        "outputId": "5b3a54f0-b12c-4752-e944-3d6027b836c0"
      },
      "source": [
        "print(new_list)"
      ],
      "execution_count": 13,
      "outputs": [
        {
          "output_type": "stream",
          "name": "stdout",
          "text": [
            "['Ankesh', 'Pramod', 'Ravi', 'Tushar']\n"
          ]
        }
      ]
    },
    {
      "cell_type": "code",
      "metadata": {
        "id": "o3qeWDSlnpeb"
      },
      "source": [
        "arr_2=np.array(new_list)"
      ],
      "execution_count": 11,
      "outputs": []
    },
    {
      "cell_type": "code",
      "metadata": {
        "colab": {
          "base_uri": "https://localhost:8080/"
        },
        "id": "Xmw0Wg74o09r",
        "outputId": "242dc2a7-c445-4f82-838e-79d287bb3e1c"
      },
      "source": [
        "print(arr_2)"
      ],
      "execution_count": 12,
      "outputs": [
        {
          "output_type": "stream",
          "name": "stdout",
          "text": [
            "['Ankesh' 'Pramod' 'Ravi' 'Tushar']\n"
          ]
        }
      ]
    },
    {
      "cell_type": "code",
      "metadata": {
        "id": "loNdpIz0o2bE"
      },
      "source": [
        "#multinested array  - array inside array\n",
        "my_list=[12,13,14,15,16]\n",
        "my_list_1=[1,15,20,28,16]\n",
        "my_list_2=[16,56,78,110,22]\n",
        "\n",
        "arr_new=np.array([my_list,my_list_1,my_list_2]) #multinested array"
      ],
      "execution_count": 14,
      "outputs": []
    },
    {
      "cell_type": "code",
      "metadata": {
        "colab": {
          "base_uri": "https://localhost:8080/"
        },
        "id": "9k8N45ncpslX",
        "outputId": "6c93ee71-874e-4068-9c02-64b5afd7b87b"
      },
      "source": [
        "print(arr_new)"
      ],
      "execution_count": 15,
      "outputs": [
        {
          "output_type": "stream",
          "name": "stdout",
          "text": [
            "[[ 12  13  14  15  16]\n",
            " [  1  15  20  28  16]\n",
            " [ 16  56  78 110  22]]\n"
          ]
        }
      ]
    },
    {
      "cell_type": "code",
      "metadata": {
        "colab": {
          "base_uri": "https://localhost:8080/"
        },
        "id": "Zjc5ZieBpxYF",
        "outputId": "0976d413-0cb3-41a2-e312-4b17c142cf49"
      },
      "source": [
        "arr_new.shape #.shape gives us the number of rows and columns, we have 2D Array"
      ],
      "execution_count": 16,
      "outputs": [
        {
          "output_type": "execute_result",
          "data": {
            "text/plain": [
              "(3, 5)"
            ]
          },
          "metadata": {},
          "execution_count": 16
        }
      ]
    },
    {
      "cell_type": "code",
      "metadata": {
        "colab": {
          "base_uri": "https://localhost:8080/"
        },
        "id": "FCJcYIb4qLh7",
        "outputId": "ad1e01bf-dc26-42f5-b1b2-e85a5012dc66"
      },
      "source": [
        "arr_new.reshape(5,3) #5 is the number of rows and 3 is the number of columns"
      ],
      "execution_count": 19,
      "outputs": [
        {
          "output_type": "execute_result",
          "data": {
            "text/plain": [
              "array([[ 12,  13,  14],\n",
              "       [ 15,  16,   1],\n",
              "       [ 15,  20,  28],\n",
              "       [ 16,  16,  56],\n",
              "       [ 78, 110,  22]])"
            ]
          },
          "metadata": {},
          "execution_count": 19
        }
      ]
    },
    {
      "cell_type": "code",
      "metadata": {
        "colab": {
          "base_uri": "https://localhost:8080/"
        },
        "id": "tZqPWl2erODP",
        "outputId": "ee0152f0-f58c-4daa-f760-fae082515846"
      },
      "source": [
        "#indexing and slicing\n",
        "print(arr)"
      ],
      "execution_count": 20,
      "outputs": [
        {
          "output_type": "stream",
          "name": "stdout",
          "text": [
            "[12 13 14 15 16]\n"
          ]
        }
      ]
    },
    {
      "cell_type": "code",
      "metadata": {
        "colab": {
          "base_uri": "https://localhost:8080/"
        },
        "id": "nonZQ_ZzsAsA",
        "outputId": "0623297a-7274-4120-eecf-f1c94d8c18de"
      },
      "source": [
        "arr[2] #element at 2nd index position will be fetched - 14"
      ],
      "execution_count": 21,
      "outputs": [
        {
          "output_type": "execute_result",
          "data": {
            "text/plain": [
              "14"
            ]
          },
          "metadata": {},
          "execution_count": 21
        }
      ]
    },
    {
      "cell_type": "code",
      "metadata": {
        "colab": {
          "base_uri": "https://localhost:8080/"
        },
        "id": "fwQaV1k_sKDk",
        "outputId": "ac152a2b-7d77-43cc-ea4a-40749562cf84"
      },
      "source": [
        "arr[-3]"
      ],
      "execution_count": 23,
      "outputs": [
        {
          "output_type": "execute_result",
          "data": {
            "text/plain": [
              "14"
            ]
          },
          "metadata": {},
          "execution_count": 23
        }
      ]
    },
    {
      "cell_type": "code",
      "metadata": {
        "colab": {
          "base_uri": "https://localhost:8080/"
        },
        "id": "BPDSlnqRsNJV",
        "outputId": "e6f5c875-160e-4431-bd0d-639270112b59"
      },
      "source": [
        "arr[1:4] #elements from 1st till 3rd index position will be fetched - [13,14,15]"
      ],
      "execution_count": 24,
      "outputs": [
        {
          "output_type": "execute_result",
          "data": {
            "text/plain": [
              "array([13, 14, 15])"
            ]
          },
          "metadata": {},
          "execution_count": 24
        }
      ]
    },
    {
      "cell_type": "code",
      "metadata": {
        "colab": {
          "base_uri": "https://localhost:8080/"
        },
        "id": "etSpzN30sbZm",
        "outputId": "36ca1d24-a352-4870-9a70-4e5323ef33f5"
      },
      "source": [
        "print(arr_new)"
      ],
      "execution_count": 25,
      "outputs": [
        {
          "output_type": "stream",
          "name": "stdout",
          "text": [
            "[[ 12  13  14  15  16]\n",
            " [  1  15  20  28  16]\n",
            " [ 16  56  78 110  22]]\n"
          ]
        }
      ]
    },
    {
      "cell_type": "code",
      "metadata": {
        "colab": {
          "base_uri": "https://localhost:8080/"
        },
        "id": "dksuxucTsxaW",
        "outputId": "c20cdddd-b2b6-4f5a-e749-c19a02d290e4"
      },
      "source": [
        "arr_new[1:,3:]"
      ],
      "execution_count": 26,
      "outputs": [
        {
          "output_type": "execute_result",
          "data": {
            "text/plain": [
              "array([[ 28,  16],\n",
              "       [110,  22]])"
            ]
          },
          "metadata": {},
          "execution_count": 26
        }
      ]
    },
    {
      "cell_type": "code",
      "metadata": {
        "colab": {
          "base_uri": "https://localhost:8080/"
        },
        "id": "2DNf5XSYs9ou",
        "outputId": "216d6bd1-a95e-4e28-a074-53b8bbbd8378"
      },
      "source": [
        "arr_new[0:,2:]"
      ],
      "execution_count": 27,
      "outputs": [
        {
          "output_type": "execute_result",
          "data": {
            "text/plain": [
              "array([[ 14,  15,  16],\n",
              "       [ 20,  28,  16],\n",
              "       [ 78, 110,  22]])"
            ]
          },
          "metadata": {},
          "execution_count": 27
        }
      ]
    },
    {
      "cell_type": "code",
      "metadata": {
        "id": "z0x9gE4kul5n"
      },
      "source": [
        ""
      ],
      "execution_count": null,
      "outputs": []
    }
  ]
}